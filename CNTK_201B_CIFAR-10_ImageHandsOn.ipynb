{
 "cells": [
  {
   "cell_type": "code",
   "execution_count": 1,
   "metadata": {
    "collapsed": true
   },
   "outputs": [],
   "source": [
    "from IPython.display import Image"
   ]
  },
  {
   "cell_type": "markdown",
   "metadata": {},
   "source": [
    "# CNTK 201B: Hands On Labs Image Recognition"
   ]
  },
  {
   "cell_type": "markdown",
   "metadata": {},
   "source": [
    "This hands-on lab shows how to implement image recognition task using [convolution network][] with CNTK v2 Python API. You will start with a basic feedforward CNN architecture to classify [CIFAR dataset](https://www.cs.toronto.edu/~kriz/cifar.html), then you will keep adding advanced features to your network. Finally, you will implement a VGG net and residual net like the one that won ImageNet competition but smaller in size.\n",
    "\n",
    "[convolution network]:https://en.wikipedia.org/wiki/Convolutional_neural_network\n",
    "\n",
    "## Introduction\n",
    "\n",
    "In this hands-on, you will practice the following:\n",
    "\n",
    "* Understanding subset of CNTK python API needed for image classification task.\n",
    "* Write a custom convolution network to classify CIFAR dataset.\n",
    "* Modifying the network structure by adding:\n",
    " * [Dropout][] layer.\n",
    " * Batchnormalization layer.\n",
    "* Implement a [VGG][] style network.\n",
    "* Introduction to Residual Nets (RESNET).\n",
    "* Implement and train [RESNET network][].\n",
    "\n",
    "[RESNET network]:https://docs.microsoft.com/en-us/cognitive-toolkit/Hands-On-Labs-Image-Recognition \n",
    "[VGG]:http://www.robots.ox.ac.uk/~vgg/research/very_deep/\n",
    "[Dropout]:https://en.wikipedia.org/wiki/Dropout_(neural_networks)\n",
    "\n",
    "## Prerequisites\n",
    "\n",
    "CNTK 201A hands-on lab, in which you will download and prepare CIFAR dataset is a prerequisites for this lab. This tutorial depends on CNTK v2, so before starting this lab you will need to install CNTK v2. Furthermore, all the tutorials in this lab are done in python, therefore, you will need a basic knowledge of Python.  \n",
    "\n",
    "CNTK 102 lab is recommended but not a prerequisite for this tutorial. However, a basic understanding of Deep Learning is needed. Familiarity with basic convolution operations is highly desirable (Refer to CNTK tutorial 103D).\n",
    "\n",
    "## Dataset\n",
    "\n",
    "You will use CIFAR 10 dataset, from https://www.cs.toronto.edu/~kriz/cifar.html, during this tutorial. The dataset  contains 50000 training images and 10000 test images, all images are 32 x 32 x 3. Each image is classified as one of 10 classes as shown below:"
   ]
  },
  {
   "cell_type": "code",
   "execution_count": 2,
   "metadata": {
    "collapsed": false
   },
   "outputs": [
    {
     "data": {
      "text/html": [
       "<img src=\"https://cntk.ai/jup/201/cifar-10.png\" width=\"500\" height=\"500\"/>"
      ],
      "text/plain": [
       "<IPython.core.display.Image object>"
      ]
     },
     "execution_count": 2,
     "metadata": {},
     "output_type": "execute_result"
    }
   ],
   "source": [
    "# Figure 1\n",
    "Image(url=\"https://cntk.ai/jup/201/cifar-10.png\", width=500, height=500)"
   ]
  },
  {
   "cell_type": "markdown",
   "metadata": {},
   "source": [
    "The above image is from: https://www.cs.toronto.edu/~kriz/cifar.html\n",
    "\n",
    "## Convolution Neural Network (CNN)\n",
    "\n",
    "We recommend completing CNTK 103D tutorial before proceeding. Here is a brief recap of Convolution Neural Network (CNN). CNN is a feedforward network comprise of a bunch of layers in such a way that the output of one layer is fed to the next layer (There are more complex architecture that skip layers, we will discuss one of those at the end of this lab). Usually, CNN start with alternating between convolution layer and pooling layer (downsample), then end up with fully connected layer for the classification part.\n",
    "\n",
    "### Convolution layer\n",
    "\n",
    "Convolution layer consist of multiple 2D convolution kernels applied on the input image or the previous layer, each convolution kernel outputs a feature map."
   ]
  },
  {
   "cell_type": "code",
   "execution_count": 3,
   "metadata": {
    "collapsed": false
   },
   "outputs": [
    {
     "data": {
      "text/html": [
       "<img src=\"https://cntk.ai/jup/201/Conv2D.png\"/>"
      ],
      "text/plain": [
       "<IPython.core.display.Image object>"
      ]
     },
     "execution_count": 3,
     "metadata": {},
     "output_type": "execute_result"
    }
   ],
   "source": [
    "# Figure 2\n",
    "Image(url=\"https://cntk.ai/jup/201/Conv2D.png\")"
   ]
  },
  {
   "cell_type": "markdown",
   "metadata": {},
   "source": [
    "The stack of feature maps output are the input to the next layer."
   ]
  },
  {
   "cell_type": "code",
   "execution_count": 4,
   "metadata": {
    "collapsed": false
   },
   "outputs": [
    {
     "data": {
      "text/html": [
       "<img src=\"https://cntk.ai/jup/201/Conv2DFeatures.png\"/>"
      ],
      "text/plain": [
       "<IPython.core.display.Image object>"
      ]
     },
     "execution_count": 4,
     "metadata": {},
     "output_type": "execute_result"
    }
   ],
   "source": [
    "# Figure 3\n",
    "Image(url=\"https://cntk.ai/jup/201/Conv2DFeatures.png\")"
   ]
  },
  {
   "cell_type": "markdown",
   "metadata": {},
   "source": [
    "> Gradient-Based Learning Applied to Document Recognition, Proceedings of the IEEE, 86(11):2278-2324, November 1998\n",
    "> Y. LeCun, L. Bottou, Y. Bengio and P. Haffner\n",
    "\n",
    "#### In CNTK:\n",
    "\n",
    "Here the [convolution][] layer in Python:\n",
    "\n",
    "```python\n",
    "def Convolution(filter_shape,        # e.g. (3,3)\n",
    "                num_filters,         # e.g. 64\n",
    "                activation,          # relu or None...etc.\n",
    "                init,                # Random initialization\n",
    "                pad,                 # True or False\n",
    "                strides)             # strides e.g. (1,1)\n",
    "```\n",
    "\n",
    "[convolution]:https://www.cntk.ai/pythondocs/layerref.html#convolution\n",
    "\n",
    "### Pooling layer\n",
    "\n",
    "In most CNN vision architecture, each convolution layer is succeeded by a pooling layer, so they keep alternating until the fully connected layer. \n",
    "\n",
    "The purpose of the pooling layer is as follow:\n",
    "\n",
    "* Reduce the dimensionality of the previous layer, which speed up the network.\n",
    "* Provide a limited translation invariant.\n",
    "\n",
    "Here an example of max pooling with a stride of 2:"
   ]
  },
  {
   "cell_type": "code",
   "execution_count": 5,
   "metadata": {
    "collapsed": false
   },
   "outputs": [
    {
     "data": {
      "text/html": [
       "<img src=\"https://cntk.ai/jup/201/MaxPooling.png\" width=\"400\" height=\"400\"/>"
      ],
      "text/plain": [
       "<IPython.core.display.Image object>"
      ]
     },
     "execution_count": 5,
     "metadata": {},
     "output_type": "execute_result"
    }
   ],
   "source": [
    "# Figure 4\n",
    "Image(url=\"https://cntk.ai/jup/201/MaxPooling.png\", width=400, height=400)"
   ]
  },
  {
   "cell_type": "markdown",
   "metadata": {},
   "source": [
    "#### In CNTK:\n",
    "\n",
    "Here the [pooling][] layer in Python:\n",
    "\n",
    "```python\n",
    "\n",
    "# Max pooling\n",
    "def MaxPooling(filter_shape,  # e.g. (3,3)\n",
    "               strides,       # (2,2)\n",
    "               pad)           # True or False\n",
    "\n",
    "# Average pooling\n",
    "def AveragePooling(filter_shape,  # e.g. (3,3)\n",
    "                   strides,       # (2,2)\n",
    "                   pad)           # True or False\n",
    "```\n",
    "\n",
    "[pooling]:https://www.cntk.ai/pythondocs/layerref.html#maxpooling-averagepooling\n",
    "\n",
    "### Dropout layer\n",
    "\n",
    "Dropout layer takes a probability value as an input, the value is called the dropout rate. Let us say the dropout rate is 0.5, what this layer does it pick at random 50% of the nodes from the previous layer and drop them out of the network. This behavior help regularize the network.\n",
    "\n",
    "> Dropout: A Simple Way to Prevent Neural Networks from Overfitting\n",
    "> Nitish Srivastava, Geoffrey Hinton, Alex Krizhevsky, Ilya Sutskever, Ruslan Salakhutdinov\n",
    "\n",
    "\n",
    "#### In CNTK:\n",
    "\n",
    "Dropout layer in Python:\n",
    "\n",
    "```python\n",
    "\n",
    "# Dropout\n",
    "def Dropout(prob)    # dropout rate e.g. 0.5\n",
    "```\n",
    "\n",
    "### Batch normalization (BN)\n",
    "\n",
    "Batch normalization is a way to make the input to each layer has zero mean and unit variance. BN help the network converge faster and keep the input of each layer around zero. BN has two learnable parameters called gamma and beta, the purpose of those parameters is for the network to decide for itself if the normalized input is what is best or the raw input.\n",
    "\n",
    "> Batch Normalization: Accelerating Deep Network Training by Reducing Internal Covariate Shift\n",
    "> Sergey Ioffe, Christian Szegedy\n",
    "\n",
    "#### In CNTK:\n",
    "\n",
    "[Batch normalization][] layer in Python:\n",
    "\n",
    "```python\n",
    "\n",
    "# Batch normalization\n",
    "def BatchNormalization(map_rank)  # For image map_rank=1\n",
    "```\n",
    "\n",
    "[Batch normalization]:https://www.cntk.ai/pythondocs/layerref.html#batchnormalization-layernormalization-stabilizer\n",
    "\n",
    "## Microsoft Cognitive Network Toolkit (CNTK)\n",
    "\n",
    "CNTK is a highly flexible computation graphs, each node take inputs as tensors and produce tensors as the result of the computation. Each node is exposed in Python API, which give you the flexibility of creating any custom graphs, you can also define your own node in Python or C++ using CPU, GPU or both.\n",
    "\n",
    "For Deep learning, you can use the low level API directly or you can use CNTK layered API. We will start with the low level API, then switch to the layered API in this lab.\n",
    "\n",
    "So let's first import the needed modules for this lab."
   ]
  },
  {
   "cell_type": "code",
   "execution_count": 6,
   "metadata": {
    "collapsed": false
   },
   "outputs": [
    {
     "name": "stderr",
     "output_type": "stream",
     "text": [
      "/home/nbuser/anaconda3_410/lib/python3.5/site-packages/matplotlib/font_manager.py:273: UserWarning: Matplotlib is building the font cache using fc-list. This may take a moment.\n",
      "  warnings.warn('Matplotlib is building the font cache using fc-list. This may take a moment.')\n",
      "/home/nbuser/anaconda3_410/lib/python3.5/site-packages/matplotlib/font_manager.py:273: UserWarning: Matplotlib is building the font cache using fc-list. This may take a moment.\n",
      "  warnings.warn('Matplotlib is building the font cache using fc-list. This may take a moment.')\n"
     ]
    }
   ],
   "source": [
    "from __future__ import print_function # Use a function definition from future version (say 3.x from 2.7 interpreter)\n",
    "\n",
    "import matplotlib.pyplot as plt\n",
    "import math\n",
    "import numpy as np\n",
    "import os\n",
    "import PIL\n",
    "import sys\n",
    "try: \n",
    "    from urllib.request import urlopen \n",
    "except ImportError: \n",
    "    from urllib import urlopen\n",
    "\n",
    "import cntk as C"
   ]
  },
  {
   "cell_type": "markdown",
   "metadata": {},
   "source": [
    "In the block below, we check if we are running this notebook in the CNTK internal test machines by looking for environment variables defined there. We then select the right target device (GPU vs CPU) to test this notebook. In other cases, we use CNTK's default policy to use the best available device (GPU, if available, else CPU)."
   ]
  },
  {
   "cell_type": "code",
   "execution_count": 7,
   "metadata": {
    "collapsed": true
   },
   "outputs": [],
   "source": [
    "if 'TEST_DEVICE' in os.environ:\n",
    "    if os.environ['TEST_DEVICE'] == 'cpu':\n",
    "        C.device.try_set_default_device(C.device.cpu())\n",
    "    else:\n",
    "        C.device.try_set_default_device(C.device.gpu(0))"
   ]
  },
  {
   "cell_type": "code",
   "execution_count": 8,
   "metadata": {
    "collapsed": true
   },
   "outputs": [],
   "source": [
    "# Test for CNTK version\n",
    "if not C.__version__ == \"2.0\":\n",
    "    raise Exception(\"this notebook was designed to work with 2.0. Current Version: \" + C.__version__) "
   ]
  },
  {
   "cell_type": "code",
   "execution_count": 9,
   "metadata": {
    "collapsed": false
   },
   "outputs": [
    {
     "data": {
      "text/html": [
       "<img src=\"https://cntk.ai/jup/201/CNN.png\"/>"
      ],
      "text/plain": [
       "<IPython.core.display.Image object>"
      ]
     },
     "execution_count": 9,
     "metadata": {},
     "output_type": "execute_result"
    }
   ],
   "source": [
    "# Figure 5\n",
    "Image(url=\"https://cntk.ai/jup/201/CNN.png\")"
   ]
  },
  {
   "cell_type": "markdown",
   "metadata": {},
   "source": [
    "Now that we imported the needed modules, let's implement our first CNN, as shown in Figure 5 above.\n",
    "\n",
    "Let's implement the above network using CNTK layer API:"
   ]
  },
  {
   "cell_type": "code",
   "execution_count": 10,
   "metadata": {
    "collapsed": true
   },
   "outputs": [],
   "source": [
    "def create_basic_model(input, out_dims):\n",
    "    with C.layers.default_options(init=C.glorot_uniform(), activation=C.relu):\n",
    "        net = C.layers.Convolution((5,5), 32, pad=True)(input)\n",
    "        net = C.layers.MaxPooling((3,3), strides=(2,2))(net)\n",
    "\n",
    "        net = C.layers.Convolution((5,5), 32, pad=True)(net)\n",
    "        net = C.layers.MaxPooling((3,3), strides=(2,2))(net)\n",
    "\n",
    "        net = C.layers.Convolution((5,5), 64, pad=True)(net)\n",
    "        net = C.layers.MaxPooling((3,3), strides=(2,2))(net)\n",
    "    \n",
    "        net = C.layers.Dense(64)(net)\n",
    "        net = C.layers.Dense(out_dims, activation=None)(net)\n",
    "    \n",
    "    return net"
   ]
  },
  {
   "cell_type": "markdown",
   "metadata": {},
   "source": [
    "To train the above model we need two things:\n",
    "* Read the training images and their corresponding labels.\n",
    "* Define a cost function, compute the cost for each mini-batch and update the model weights according to the cost value.\n",
    "\n",
    "To read the data in CNTK, we will use CNTK readers which handle data augmentation and can fetch data in parallel.\n",
    "\n",
    "Example of a map text file:\n",
    "\n",
    "    S:\\data\\CIFAR-10\\train\\00001.png\t9\n",
    "    S:\\data\\CIFAR-10\\train\\00002.png\t9\n",
    "    S:\\data\\CIFAR-10\\train\\00003.png\t4\n",
    "    S:\\data\\CIFAR-10\\train\\00004.png\t1\n",
    "    S:\\data\\CIFAR-10\\train\\00005.png\t1\n"
   ]
  },
  {
   "cell_type": "code",
   "execution_count": 13,
   "metadata": {
    "collapsed": true
   },
   "outputs": [],
   "source": [
    "# Determine the data path for testing\n",
    "# Check for an environment variable defined in CNTK's test infrastructure\n",
    "envvar = 'CNTK_EXTERNAL_TESTDATA_SOURCE_DIRECTORY'\n",
    "def is_test(): return envvar in os.environ\n",
    "\n",
    "if is_test():\n",
    "    data_path = os.path.join(os.environ[envvar],'Image','CIFAR','v0','tutorial201')\n",
    "    data_path = os.path.normpath(data_path)\n",
    "else:\n",
    "    data_path = os.path.join('data', 'CIFAR-10')\n",
    "\n",
    "# model dimensions\n",
    "image_height = 32\n",
    "image_width  = 32\n",
    "num_channels = 3\n",
    "num_classes  = 10\n",
    "\n",
    "import cntk.io.transforms as xforms \n",
    "#\n",
    "# Define the reader for both training and evaluation action.\n",
    "#\n",
    "def create_reader(map_file, mean_file, train):\n",
    "    print(\"Reading map file:\", map_file)\n",
    "    print(\"Reading mean file:\", mean_file)\n",
    "    \n",
    "    if not os.path.exists(map_file) or not os.path.exists(mean_file):\n",
    "        raise RuntimeError(\"This tutorials depends 201A tutorials, please run 201A first.\")\n",
    "\n",
    "    # transformation pipeline for the features has jitter/crop only when training\n",
    "    transforms = []\n",
    "    # train uses data augmentation (translation only)\n",
    "    if train:\n",
    "        transforms += [\n",
    "            xforms.crop(crop_type='randomside', side_ratio=0.8) \n",
    "        ]\n",
    "    transforms += [\n",
    "        xforms.scale(width=image_width, height=image_height, channels=num_channels, interpolations='linear'),\n",
    "        xforms.mean(mean_file)\n",
    "    ]\n",
    "    # deserializer\n",
    "    return C.io.MinibatchSource(C.io.ImageDeserializer(map_file, C.io.StreamDefs(\n",
    "        features = C.io.StreamDef(field='image', transforms=transforms), # first column in map file is referred to as 'image'\n",
    "        labels   = C.io.StreamDef(field='label', shape=num_classes)      # and second as 'label'\n",
    "    )))"
   ]
  },
  {
   "cell_type": "code",
   "execution_count": 14,
   "metadata": {
    "collapsed": false
   },
   "outputs": [
    {
     "name": "stdout",
     "output_type": "stream",
     "text": [
      "Reading map file: data/CIFAR-10/train_map.txt\n",
      "Reading mean file: data/CIFAR-10/CIFAR-10_mean.xml\n",
      "Reading map file: data/CIFAR-10/test_map.txt\n",
      "Reading mean file: data/CIFAR-10/CIFAR-10_mean.xml\n"
     ]
    }
   ],
   "source": [
    "# Create the train and test readers\n",
    "reader_train = create_reader(os.path.join(data_path, 'train_map.txt'), \n",
    "                             os.path.join(data_path, 'CIFAR-10_mean.xml'), True)\n",
    "reader_test  = create_reader(os.path.join(data_path, 'test_map.txt'), \n",
    "                             os.path.join(data_path, 'CIFAR-10_mean.xml'), False) "
   ]
  },
  {
   "cell_type": "markdown",
   "metadata": {},
   "source": [
    "Now let us write the the training and validation loop."
   ]
  },
  {
   "cell_type": "code",
   "execution_count": 15,
   "metadata": {
    "collapsed": true
   },
   "outputs": [],
   "source": [
    "#\n",
    "# Train and evaluate the network.\n",
    "#\n",
    "def train_and_evaluate(reader_train, reader_test, max_epochs, model_func):\n",
    "    # Input variables denoting the features and label data\n",
    "    input_var = C.input_variable((num_channels, image_height, image_width))\n",
    "    label_var = C.input_variable((num_classes))\n",
    "\n",
    "    # Normalize the input\n",
    "    feature_scale = 1.0 / 256.0\n",
    "    input_var_norm = C.element_times(feature_scale, input_var)\n",
    "    \n",
    "    # apply model to input\n",
    "    z = model_func(input_var_norm, out_dims=10)\n",
    "\n",
    "    #\n",
    "    # Training action\n",
    "    #\n",
    "\n",
    "    # loss and metric\n",
    "    ce = C.cross_entropy_with_softmax(z, label_var)\n",
    "    pe = C.classification_error(z, label_var)\n",
    "\n",
    "    # training config\n",
    "    epoch_size     = 50000\n",
    "    minibatch_size = 64\n",
    "\n",
    "    # Set training parameters\n",
    "    lr_per_minibatch       = C.learning_rate_schedule([0.01]*10 + [0.003]*10 + [0.001], \n",
    "                                                      C.UnitType.minibatch, epoch_size)\n",
    "    momentum_time_constant = C.momentum_as_time_constant_schedule(-minibatch_size/np.log(0.9))\n",
    "    l2_reg_weight          = 0.001\n",
    "    \n",
    "    # trainer object\n",
    "    learner = C.momentum_sgd(z.parameters, \n",
    "                             lr = lr_per_minibatch, \n",
    "                             momentum = momentum_time_constant, \n",
    "                             l2_regularization_weight=l2_reg_weight)\n",
    "    progress_printer = C.logging.ProgressPrinter(tag='Training', num_epochs=max_epochs)\n",
    "    trainer = C.Trainer(z, (ce, pe), [learner], [progress_printer])\n",
    "\n",
    "    # define mapping from reader streams to network inputs\n",
    "    input_map = {\n",
    "        input_var: reader_train.streams.features,\n",
    "        label_var: reader_train.streams.labels\n",
    "    }\n",
    "\n",
    "    C.logging.log_number_of_parameters(z) ; print()\n",
    "\n",
    "    # perform model training\n",
    "    batch_index = 0\n",
    "    plot_data = {'batchindex':[], 'loss':[], 'error':[]}\n",
    "    for epoch in range(max_epochs):       # loop over epochs\n",
    "        sample_count = 0\n",
    "        while sample_count < epoch_size:  # loop over minibatches in the epoch\n",
    "            data = reader_train.next_minibatch(min(minibatch_size, epoch_size - sample_count), \n",
    "                                               input_map=input_map) # fetch minibatch.\n",
    "            trainer.train_minibatch(data)                                   # update model with it\n",
    "\n",
    "            sample_count += data[label_var].num_samples                     # count samples processed so far\n",
    "            \n",
    "            # For visualization...            \n",
    "            plot_data['batchindex'].append(batch_index)\n",
    "            plot_data['loss'].append(trainer.previous_minibatch_loss_average)\n",
    "            plot_data['error'].append(trainer.previous_minibatch_evaluation_average)\n",
    "            \n",
    "            batch_index += 1\n",
    "        trainer.summarize_training_progress()\n",
    "        \n",
    "    #\n",
    "    # Evaluation action\n",
    "    #\n",
    "    epoch_size     = 10000\n",
    "    minibatch_size = 16\n",
    "\n",
    "    # process minibatches and evaluate the model\n",
    "    metric_numer    = 0\n",
    "    metric_denom    = 0\n",
    "    sample_count    = 0\n",
    "    minibatch_index = 0\n",
    "\n",
    "    while sample_count < epoch_size:\n",
    "        current_minibatch = min(minibatch_size, epoch_size - sample_count)\n",
    "\n",
    "        # Fetch next test min batch.\n",
    "        data = reader_test.next_minibatch(current_minibatch, input_map=input_map)\n",
    "\n",
    "        # minibatch data to be trained with\n",
    "        metric_numer += trainer.test_minibatch(data) * current_minibatch\n",
    "        metric_denom += current_minibatch\n",
    "\n",
    "        # Keep track of the number of samples processed so far.\n",
    "        sample_count += data[label_var].num_samples\n",
    "        minibatch_index += 1\n",
    "\n",
    "    print(\"\")\n",
    "    print(\"Final Results: Minibatch[1-{}]: errs = {:0.1f}% * {}\".format(minibatch_index+1, (metric_numer*100.0)/metric_denom, metric_denom))\n",
    "    print(\"\")\n",
    "    \n",
    "    # Visualize training result:\n",
    "    window_width            = 32\n",
    "    loss_cumsum             = np.cumsum(np.insert(plot_data['loss'], 0, 0)) \n",
    "    error_cumsum            = np.cumsum(np.insert(plot_data['error'], 0, 0)) \n",
    "\n",
    "    # Moving average.\n",
    "    plot_data['batchindex'] = np.insert(plot_data['batchindex'], 0, 0)[window_width:]\n",
    "    plot_data['avg_loss']   = (loss_cumsum[window_width:] - loss_cumsum[:-window_width]) / window_width\n",
    "    plot_data['avg_error']  = (error_cumsum[window_width:] - error_cumsum[:-window_width]) / window_width\n",
    "    \n",
    "    plt.figure(1)\n",
    "    plt.subplot(211)\n",
    "    plt.plot(plot_data[\"batchindex\"], plot_data[\"avg_loss\"], 'b--')\n",
    "    plt.xlabel('Minibatch number')\n",
    "    plt.ylabel('Loss')\n",
    "    plt.title('Minibatch run vs. Training loss ')\n",
    "\n",
    "    plt.show()\n",
    "\n",
    "    plt.subplot(212)\n",
    "    plt.plot(plot_data[\"batchindex\"], plot_data[\"avg_error\"], 'r--')\n",
    "    plt.xlabel('Minibatch number')\n",
    "    plt.ylabel('Label Prediction Error')\n",
    "    plt.title('Minibatch run vs. Label Prediction Error ')\n",
    "    plt.show()\n",
    "    \n",
    "    return C.softmax(z)"
   ]
  },
  {
   "cell_type": "code",
   "execution_count": 16,
   "metadata": {
    "collapsed": false
   },
   "outputs": [
    {
     "name": "stdout",
     "output_type": "stream",
     "text": [
      "Training 116906 parameters in 10 parameter tensors.\n",
      "\n",
      "Learning rate per minibatch: 0.01\n",
      "Momentum per sample: 0.9983550962823424\n",
      "Finished Epoch[1 of 5]: [Training] loss = 2.118757 * 50000, metric = 77.78% * 50000 191.528s (261.1 samples/s);\n",
      "Finished Epoch[2 of 5]: [Training] loss = 1.759395 * 50000, metric = 64.43% * 50000 187.225s (267.1 samples/s);\n",
      "Finished Epoch[3 of 5]: [Training] loss = 1.586294 * 50000, metric = 58.29% * 50000 186.641s (267.9 samples/s);\n",
      "Finished Epoch[4 of 5]: [Training] loss = 1.493024 * 50000, metric = 54.37% * 50000 187.441s (266.8 samples/s);\n",
      "Finished Epoch[5 of 5]: [Training] loss = 1.410018 * 50000, metric = 51.15% * 50000 186.106s (268.7 samples/s);\n",
      "\n",
      "Final Results: Minibatch[1-626]: errs = 45.8% * 10000\n",
      "\n"
     ]
    },
    {
     "data": {
      "image/png": "[encoded data removed]",
      "text/plain": [
       "<matplotlib.figure.Figure at 0x7fa23284a5f8>"
      ]
     },
     "metadata": {},
     "output_type": "display_data"
    },
    {
     "data": {
      "image/png": "[encoded data removed]",
      "text/plain": [
       "<matplotlib.figure.Figure at 0x7fa200059550>"
      ]
     },
     "metadata": {},
     "output_type": "display_data"
    }
   ],
   "source": [
    "pred = train_and_evaluate(reader_train, \n",
    "                          reader_test, \n",
    "                          max_epochs=5, \n",
    "                          model_func=create_basic_model)"
   ]
  },
  {
   "cell_type": "markdown",
   "metadata": {},
   "source": [
    "Although, this model is very simple, it still has too much code, we can do better. Here the same model in more terse format:"
   ]
  },
  {
   "cell_type": "code",
   "execution_count": 17,
   "metadata": {
    "collapsed": true
   },
   "outputs": [],
   "source": [
    "def create_basic_model_terse(input, out_dims):\n",
    "\n",
    "    with C.layers.default_options(init=C.glorot_uniform(), activation=C.relu):\n",
    "        model = C.layers.Sequential([\n",
    "            C.layers.For(range(3), lambda i: [\n",
    "                C.layers.Convolution((5,5), [32,32,64][i], pad=True),\n",
    "                C.layers.MaxPooling((3,3), strides=(2,2))\n",
    "                ]),\n",
    "            C.layers.Dense(64),\n",
    "            C.layers.Dense(out_dims, activation=None)\n",
    "        ])\n",
    "\n",
    "    return model(input)"
   ]
  },
  {
   "cell_type": "code",
   "execution_count": 18,
   "metadata": {
    "collapsed": false
   },
   "outputs": [
    {
     "name": "stdout",
     "output_type": "stream",
     "text": [
      "Training 116906 parameters in 10 parameter tensors.\n",
      "\n",
      "Learning rate per minibatch: 0.01\n",
      "Momentum per sample: 0.9983550962823424\n",
      "Finished Epoch[1 of 10]: [Training] loss = 2.065728 * 50000, metric = 76.01% * 50000 184.746s (270.6 samples/s);\n",
      "Finished Epoch[2 of 10]: [Training] loss = 1.705530 * 50000, metric = 62.96% * 50000 179.620s (278.4 samples/s);\n",
      "Finished Epoch[3 of 10]: [Training] loss = 1.563748 * 50000, metric = 57.69% * 50000 178.780s (279.7 samples/s);\n",
      "Finished Epoch[4 of 10]: [Training] loss = 1.471029 * 50000, metric = 53.46% * 50000 182.792s (273.5 samples/s);\n",
      "Finished Epoch[5 of 10]: [Training] loss = 1.379831 * 50000, metric = 49.70% * 50000 183.959s (271.8 samples/s);\n",
      "Finished Epoch[6 of 10]: [Training] loss = 1.307283 * 50000, metric = 46.59% * 50000 182.712s (273.7 samples/s);\n",
      "Finished Epoch[7 of 10]: [Training] loss = 1.241304 * 50000, metric = 44.13% * 50000 181.673s (275.2 samples/s);\n",
      "Finished Epoch[8 of 10]: [Training] loss = 1.186000 * 50000, metric = 42.03% * 50000 183.084s (273.1 samples/s);\n",
      "Finished Epoch[9 of 10]: [Training] loss = 1.137543 * 50000, metric = 40.23% * 50000 181.347s (275.7 samples/s);\n",
      "Finished Epoch[10 of 10]: [Training] loss = 1.102946 * 50000, metric = 38.93% * 50000 177.998s (280.9 samples/s);\n",
      "\n",
      "Final Results: Minibatch[1-626]: errs = 35.1% * 10000\n",
      "\n"
     ]
    },
    {
     "data": {
      "image/png": "[encoded data removed]",
      "text/plain": [
       "<matplotlib.figure.Figure at 0x7fa202392588>"
      ]
     },
     "metadata": {},
     "output_type": "display_data"
    },
    {
     "data": {
      "image/png": "[encoded data removed]",
      "text/plain": [
       "<matplotlib.figure.Figure at 0x7fa1ec39f208>"
      ]
     },
     "metadata": {},
     "output_type": "display_data"
    }
   ],
   "source": [
    "pred_basic_model = train_and_evaluate(reader_train, \n",
    "                                      reader_test, \n",
    "                                      max_epochs=10, \n",
    "                                      model_func=create_basic_model_terse)"
   ]
  },
  {
   "cell_type": "markdown",
   "metadata": {},
   "source": [
    "Now that we have a trained model, let us classify the following image of a truck. We use PIL to read the image."
   ]
  },
  {
   "cell_type": "code",
   "execution_count": 19,
   "metadata": {
    "collapsed": false
   },
   "outputs": [
    {
     "data": {
      "text/html": [
       "<img src=\"https://cntk.ai/jup/201/00014.png\" width=\"64\" height=\"64\"/>"
      ],
      "text/plain": [
       "<IPython.core.display.Image object>"
      ]
     },
     "execution_count": 19,
     "metadata": {},
     "output_type": "execute_result"
    }
   ],
   "source": [
    "# Figure 6\n",
    "Image(url=\"https://cntk.ai/jup/201/00014.png\", width=64, height=64)"
   ]
  },
  {
   "cell_type": "code",
   "execution_count": 20,
   "metadata": {
    "collapsed": true
   },
   "outputs": [],
   "source": [
    "# Download a sample image \n",
    "# (this is 00014.png from test dataset)\n",
    "# Any image of size 32,32 can be evaluated\n",
    "\n",
    "url = \"https://cntk.ai/jup/201/00014.png\"\n",
    "myimg = np.array(PIL.Image.open(urlopen(url)), dtype=np.float32)"
   ]
  },
  {
   "cell_type": "markdown",
   "metadata": {},
   "source": [
    "During training we have subtracted the mean from the input images. Here we take an approximate value of the mean and subtract it from the image."
   ]
  },
  {
   "cell_type": "code",
   "execution_count": 21,
   "metadata": {
    "collapsed": true
   },
   "outputs": [],
   "source": [
    "def eval(pred_op, image_data):\n",
    "    label_lookup = [\"airplane\", \"automobile\", \"bird\", \"cat\", \"deer\", \"dog\", \"frog\", \"horse\", \"ship\", \"truck\"]\n",
    "    image_mean = 133.0\n",
    "    image_data -= image_mean\n",
    "    image_data = np.ascontiguousarray(np.transpose(image_data, (2, 0, 1)))\n",
    "    \n",
    "    result = np.squeeze(pred_op.eval({pred_op.arguments[0]:[image_data]}))\n",
    "    \n",
    "    # Return top 3 results:\n",
    "    top_count = 3\n",
    "    result_indices = (-np.array(result)).argsort()[:top_count]\n",
    "\n",
    "    print(\"Top 3 predictions:\")\n",
    "    for i in range(top_count):\n",
    "        print(\"\\tLabel: {:10s}, confidence: {:.2f}%\".format(label_lookup[result_indices[i]], result[result_indices[i]] * 100))"
   ]
  },
  {
   "cell_type": "code",
   "execution_count": 22,
   "metadata": {
    "collapsed": false
   },
   "outputs": [
    {
     "name": "stdout",
     "output_type": "stream",
     "text": [
      "Top 3 predictions:\n",
      "\tLabel: truck     , confidence: 95.19%\n",
      "\tLabel: ship      , confidence: 2.85%\n",
      "\tLabel: airplane  , confidence: 0.68%\n"
     ]
    }
   ],
   "source": [
    "# Run the evaluation on the downloaded image\n",
    "eval(pred_basic_model, myimg)"
   ]
  },
  {
   "cell_type": "markdown",
   "metadata": {},
   "source": [
    "Adding dropout layer, with drop rate of 0.25, before the last dense layer:"
   ]
  },
  {
   "cell_type": "code",
   "execution_count": 23,
   "metadata": {
    "collapsed": true
   },
   "outputs": [],
   "source": [
    "def create_basic_model_with_dropout(input, out_dims):\n",
    "\n",
    "    with C.layers.default_options(activation=C.relu, init=C.glorot_uniform()):\n",
    "        model = C.layers.Sequential([\n",
    "            C.layers.For(range(3), lambda i: [\n",
    "                C.layers.Convolution((5,5), [32,32,64][i], pad=True),\n",
    "                C.layers.MaxPooling((3,3), strides=(2,2))\n",
    "            ]),\n",
    "            C.layers.Dense(64),\n",
    "            C.layers.Dropout(0.25),\n",
    "            C.layers.Dense(out_dims, activation=None)\n",
    "        ])\n",
    "\n",
    "    return model(input)"
   ]
  },
  {
   "cell_type": "code",
   "execution_count": 24,
   "metadata": {
    "collapsed": false
   },
   "outputs": [
    {
     "name": "stdout",
     "output_type": "stream",
     "text": [
      "Training 116906 parameters in 10 parameter tensors.\n",
      "\n",
      "Learning rate per minibatch: 0.01\n",
      "Momentum per sample: 0.9983550962823424\n",
      "Finished Epoch[1 of 5]: [Training] loss = 2.106533 * 50000, metric = 78.74% * 50000 182.485s (274.0 samples/s);\n",
      "Finished Epoch[2 of 5]: [Training] loss = 1.799412 * 50000, metric = 67.03% * 50000 184.497s (271.0 samples/s);\n",
      "Finished Epoch[3 of 5]: [Training] loss = 1.661435 * 50000, metric = 61.65% * 50000 183.771s (272.1 samples/s);\n",
      "Finished Epoch[4 of 5]: [Training] loss = 1.570203 * 50000, metric = 58.06% * 50000 185.062s (270.2 samples/s);\n",
      "Finished Epoch[5 of 5]: [Training] loss = 1.501502 * 50000, metric = 55.18% * 50000 183.270s (272.8 samples/s);\n",
      "\n",
      "Final Results: Minibatch[1-626]: errs = 48.1% * 10000\n",
      "\n"
     ]
    },
    {
     "data": {
      "image/png": "[encoded data removed]",
      "text/plain": [
       "<matplotlib.figure.Figure at 0x7fa2000533c8>"
      ]
     },
     "metadata": {},
     "output_type": "display_data"
    },
    {
     "data": {
      "image/png": "[encoded data removed]",
      "text/plain": [
       "<matplotlib.figure.Figure at 0x7fa1ec3bce10>"
      ]
     },
     "metadata": {},
     "output_type": "display_data"
    }
   ],
   "source": [
    "pred_basic_model_dropout = train_and_evaluate(reader_train, \n",
    "                                              reader_test, \n",
    "                                              max_epochs=5, \n",
    "                                              model_func=create_basic_model_with_dropout)"
   ]
  },
  {
   "cell_type": "markdown",
   "metadata": {},
   "source": [
    "Add batch normalization after each convolution and before the last dense layer:"
   ]
  },
  {
   "cell_type": "code",
   "execution_count": 27,
   "metadata": {
    "collapsed": true
   },
   "outputs": [],
   "source": [
    "def create_basic_model_with_batch_normalization(input, out_dims):\n",
    "\n",
    "    with C.layers.default_options(activation=C.relu, init=C.glorot_uniform()):\n",
    "        model = C.layers.Sequential([\n",
    "            C.layers.For(range(3), lambda i: [\n",
    "                C.layers.Convolution((5,5), [32,32,64][i], pad=True),\n",
    "                #C.layers.BatchNormalization(map_rank=1),\n",
    "                C.layers.MaxPooling((3,3), strides=(2,2))\n",
    "            ]),\n",
    "            C.layers.Dense(64),\n",
    "            #C.layers.BatchNormalization(map_rank=1),\n",
    "            C.layers.Dense(out_dims, activation=None)\n",
    "        ])\n",
    "\n",
    "    return model(input)"
   ]
  },
  {
   "cell_type": "code",
   "execution_count": 28,
   "metadata": {
    "collapsed": false
   },
   "outputs": [
    {
     "name": "stdout",
     "output_type": "stream",
     "text": [
      "Training 116906 parameters in 10 parameter tensors.\n",
      "\n",
      "Learning rate per minibatch: 0.01\n",
      "Momentum per sample: 0.9983550962823424\n",
      "Finished Epoch[1 of 5]: [Training] loss = 2.095649 * 50000, metric = 76.94% * 50000 184.330s (271.3 samples/s);\n",
      "Finished Epoch[2 of 5]: [Training] loss = 1.709155 * 50000, metric = 62.94% * 50000 183.431s (272.6 samples/s);\n",
      "Finished Epoch[3 of 5]: [Training] loss = 1.556320 * 50000, metric = 56.87% * 50000 184.522s (271.0 samples/s);\n",
      "Finished Epoch[4 of 5]: [Training] loss = 1.468218 * 50000, metric = 53.10% * 50000 182.116s (274.6 samples/s);\n",
      "Finished Epoch[5 of 5]: [Training] loss = 1.395908 * 50000, metric = 50.33% * 50000 184.782s (270.6 samples/s);\n",
      "\n",
      "Final Results: Minibatch[1-626]: errs = 46.2% * 10000\n",
      "\n"
     ]
    },
    {
     "data": {
      "image/png": "[encoded data removed]",
      "text/plain": [
       "<matplotlib.figure.Figure at 0x7fa1ec3e8b00>"
      ]
     },
     "metadata": {},
     "output_type": "display_data"
    },
    {
     "data": {
      "image/png": "[encoded data removed]",
      "text/plain": [
       "<matplotlib.figure.Figure at 0x7fa1c77905c0>"
      ]
     },
     "metadata": {},
     "output_type": "display_data"
    }
   ],
   "source": [
    "pred_basic_model_bn = train_and_evaluate(reader_train, \n",
    "                                         reader_test, \n",
    "                                         max_epochs=5, \n",
    "                                         model_func=create_basic_model_with_batch_normalization)"
   ]
  },
  {
   "cell_type": "markdown",
   "metadata": {},
   "source": [
    "Let's implement an inspired VGG style network, using layer API, here the architecture:\n",
    "\n",
    "| VGG9          |\n",
    "| ------------- |\n",
    "| conv3-64      |\n",
    "| conv3-64      |\n",
    "| max3          |\n",
    "|               |\n",
    "| conv3-96      |\n",
    "| conv3-96      |\n",
    "| max3          |\n",
    "|               |\n",
    "| conv3-128     |\n",
    "| conv3-128     |\n",
    "| max3          |\n",
    "|               |\n",
    "| FC-1024       |\n",
    "| FC-1024       |\n",
    "|               |\n",
    "| FC-10         |\n"
   ]
  },
  {
   "cell_type": "code",
   "execution_count": null,
   "metadata": {
    "collapsed": true
   },
   "outputs": [],
   "source": [
    "def create_vgg9_model(input, out_dims):\n",
    "    with C.layers.default_options(activation=C.relu, init=C.glorot_uniform()):\n",
    "        model = C.layers.Sequential([\n",
    "            C.layers.For(range(3), lambda i: [\n",
    "                C.layers.Convolution((3,3), [64,96,128][i], pad=True),\n",
    "                C.layers.Convolution((3,3), [64,96,128][i], pad=True),\n",
    "                C.layers.MaxPooling((3,3), strides=(2,2))\n",
    "            ]),\n",
    "            C.layers.For(range(2), lambda : [\n",
    "                C.layers.Dense(1024)\n",
    "            ]),\n",
    "            C.layers.Dense(out_dims, activation=None)\n",
    "        ])\n",
    "        \n",
    "    return model(input)"
   ]
  },
  {
   "cell_type": "code",
   "execution_count": null,
   "metadata": {
    "collapsed": false
   },
   "outputs": [
    {
     "name": "stdout",
     "output_type": "stream",
     "text": [
      "Training 2675978 parameters in 18 parameter tensors.\n",
      "\n",
      "Learning rate per minibatch: 0.01\n",
      "Momentum per sample: 0.9983550962823424\n",
      "Finished Epoch[1 of 5]: [Training] loss = 2.267467 * 50000, metric = 83.44% * 50000 746.387s ( 67.0 samples/s);\n",
      "Finished Epoch[2 of 5]: [Training] loss = 1.950461 * 50000, metric = 72.59% * 50000 727.394s ( 68.7 samples/s);\n",
      "Finished Epoch[3 of 5]: [Training] loss = 1.718976 * 50000, metric = 63.68% * 50000 729.293s ( 68.6 samples/s);\n",
      "Finished Epoch[4 of 5]: [Training] loss = 1.586263 * 50000, metric = 58.21% * 50000 738.740s ( 67.7 samples/s);\n"
     ]
    }
   ],
   "source": [
    "pred_vgg = train_and_evaluate(reader_train, \n",
    "                              reader_test, \n",
    "                              max_epochs=5, \n",
    "                              model_func=create_vgg9_model)"
   ]
  },
  {
   "cell_type": "markdown",
   "metadata": {},
   "source": [
    "### Residual Network (ResNet)\n",
    "\n",
    "One of the main problem of a Deep Neural Network is how to propagate the error all the way to the first layer. For a deep network, the gradients keep getting smaller until it has no effect on the network weights. [ResNet](https://arxiv.org/abs/1512.03385) was designed to overcome such problem, by defining a block with identity path, as shown below:"
   ]
  },
  {
   "cell_type": "code",
   "execution_count": null,
   "metadata": {
    "collapsed": false
   },
   "outputs": [],
   "source": [
    "# Figure 7\n",
    "Image(url=\"https://cntk.ai/jup/201/ResNetBlock2.png\")"
   ]
  },
  {
   "cell_type": "markdown",
   "metadata": {},
   "source": [
    "The idea of the above block is 2 folds:\n",
    "\n",
    "* During back propagation the gradients have a path that does not affect its magnitude.\n",
    "* The network need to learn residual mapping (delta to x).\n",
    "\n",
    "So let's implements ResNet blocks using CNTK:\n",
    "\n",
    "            ResNetNode                   ResNetNodeInc\n",
    "                |                              |\n",
    "         +------+------+             +---------+----------+\n",
    "         |             |             |                    |\n",
    "         V             |             V                    V\n",
    "    +----------+       |      +--------------+   +----------------+\n",
    "    | Conv, BN |       |      | Conv x 2, BN |   | SubSample, BN  |\n",
    "    +----------+       |      +--------------+   +----------------+\n",
    "         |             |             |                    |\n",
    "         V             |             V                    |\n",
    "     +-------+         |         +-------+                |\n",
    "     | ReLU  |         |         | ReLU  |                |\n",
    "     +-------+         |         +-------+                |\n",
    "         |             |             |                    |\n",
    "         V             |             V                    |\n",
    "    +----------+       |        +----------+              |\n",
    "    | Conv, BN |       |        | Conv, BN |              |\n",
    "    +----------+       |        +----------+              |\n",
    "         |             |             |                    |\n",
    "         |    +---+    |             |       +---+        |\n",
    "         +--->| + |<---+             +------>+ + +<-------+\n",
    "              +---+                          +---+\n",
    "                |                              |\n",
    "                V                              V\n",
    "            +-------+                      +-------+\n",
    "            | ReLU  |                      | ReLU  |\n",
    "            +-------+                      +-------+\n",
    "                |                              |\n",
    "                V                              V\n"
   ]
  },
  {
   "cell_type": "code",
   "execution_count": null,
   "metadata": {
    "collapsed": true
   },
   "outputs": [],
   "source": [
    "def convolution_bn(input, filter_size, num_filters, strides=(1,1), init=C.he_normal(), activation=C.relu):\n",
    "    if activation is None:\n",
    "        activation = lambda x: x\n",
    "        \n",
    "    r = C.layers.Convolution(filter_size, \n",
    "                             num_filters, \n",
    "                             strides=strides, \n",
    "                             init=init, \n",
    "                             activation=None, \n",
    "                             pad=True, bias=False)(input)\n",
    "    r = C.layers.BatchNormalization(map_rank=1)(r)\n",
    "    r = activation(r)\n",
    "    \n",
    "    return r\n",
    "\n",
    "def resnet_basic(input, num_filters):\n",
    "    c1 = convolution_bn(input, (3,3), num_filters)\n",
    "    c2 = convolution_bn(c1, (3,3), num_filters, activation=None)\n",
    "    p  = c2 + input\n",
    "    return C.relu(p)\n",
    "\n",
    "def resnet_basic_inc(input, num_filters):\n",
    "    c1 = convolution_bn(input, (3,3), num_filters, strides=(2,2))\n",
    "    c2 = convolution_bn(c1, (3,3), num_filters, activation=None)\n",
    "\n",
    "    s = convolution_bn(input, (1,1), num_filters, strides=(2,2), activation=None)\n",
    "    \n",
    "    p = c2 + s\n",
    "    return C.relu(p)\n",
    "\n",
    "def resnet_basic_stack(input, num_filters, num_stack):\n",
    "    assert (num_stack > 0)\n",
    "    \n",
    "    r = input\n",
    "    for _ in range(num_stack):\n",
    "        r = resnet_basic(r, num_filters)\n",
    "    return r"
   ]
  },
  {
   "cell_type": "markdown",
   "metadata": {},
   "source": [
    "Let's write the full model:"
   ]
  },
  {
   "cell_type": "code",
   "execution_count": null,
   "metadata": {
    "collapsed": true
   },
   "outputs": [],
   "source": [
    "def create_resnet_model(input, out_dims):\n",
    "    conv = convolution_bn(input, (3,3), 16)\n",
    "    r1_1 = resnet_basic_stack(conv, 16, 3)\n",
    "\n",
    "    r2_1 = resnet_basic_inc(r1_1, 32)\n",
    "    r2_2 = resnet_basic_stack(r2_1, 32, 2)\n",
    "\n",
    "    r3_1 = resnet_basic_inc(r2_2, 64)\n",
    "    r3_2 = resnet_basic_stack(r3_1, 64, 2)\n",
    "\n",
    "    # Global average pooling\n",
    "    pool = C.layers.AveragePooling(filter_shape=(8,8), strides=(1,1))(r3_2)    \n",
    "    net = C.layers.Dense(out_dims, init=C.he_normal(), activation=None)(pool)\n",
    "    \n",
    "    return net"
   ]
  },
  {
   "cell_type": "code",
   "execution_count": null,
   "metadata": {
    "collapsed": false
   },
   "outputs": [],
   "source": [
    "pred_resnet = train_and_evaluate(reader_train, reader_test, max_epochs=5, model_func=create_resnet_model)"
   ]
  },
  {
   "cell_type": "code",
   "execution_count": null,
   "metadata": {
    "collapsed": true
   },
   "outputs": [],
   "source": []
  }
 ],
 "metadata": {
  "anaconda-cloud": {},
  "kernelspec": {
   "display_name": "Python 3",
   "language": "python",
   "name": "python3"
  },
  "language_info": {
   "codemirror_mode": {
    "name": "ipython",
    "version": 3
   },
   "file_extension": ".py",
   "mimetype": "text/x-python",
   "name": "python",
   "nbconvert_exporter": "python",
   "pygments_lexer": "ipython3",
   "version": "3.5.1"
  }
 },
 "nbformat": 4,
 "nbformat_minor": 1
}
